{
 "cells": [
  {
   "cell_type": "markdown",
   "id": "7d8a10f0",
   "metadata": {},
   "source": [
    "task 2\n",
    "\n",
    "Pandas Practice Task 2\n",
    "Problem Statement: Analyzing Customer Purchase Behavior\n",
    "\n",
    "You have been provided with a dataset containing information about customer transactions from an online retailer. \n",
    "The data includes information such as customer ID, product ID, purchase date, price, and more. The goal is to use \n",
    "Pandas to preprocess, clean, and analyze the data to gain insights into customer purchase behavior and product popularity.\n",
    "Questions\n",
    "The specific tasks you might undertake could include:\n",
    "\n",
    "1__Cleaning and preprocessing the data to remove duplicates, missing values, and other errors.\n",
    "\n",
    "2__Merging and aggregating the data to create summary tables and metrics, such as total sales by product or customer.\n",
    "\n",
    "3__Analyzing the data to identify trends and patterns in customer purchase behavior, such as which products are frequently purchased together, which products are popular at different times of year, or which customers are most valuable to the business.\n",
    "\n",
    "4__Creating visualizations to help communicate the results of your analysis, such as scatter plots, bar charts, or heat maps.\n",
    "\n",
    "\n",
    "This problem statement is a practical and relevant task that requires expertise\n",
    "__in data manipulation\n",
    "__cleaning,\n",
    "__analysis\n",
    "It provides a good opportunity to practice your skills in handling complex datasets \n",
    "and exploring them using Pandas. Additionally, the problem is relevant and practical, making it a great task for\n",
    "an advanced data science learner who is interested in working with Pandas.\n",
    "\n",
    "\n",
    "There are various datasets that you could use for the problem statement I suggested. Here are a few possible sources:\n",
    "\n",
    "The Online Retail Data Set: This dataset contains transactional data of a UK-based online retailer from 2010 to 2011. \n",
    "    You can download it from the UCI Machine Learning Repository at https://archive.ics.uci.edu/ml/datasets/Online+Retail+II.\n",
    "\n",
    " "
   ]
  },
  {
   "cell_type": "markdown",
   "id": "90b318b2",
   "metadata": {},
   "source": [
    "#Data Analysis process\n",
    "    Importing the libraries\n",
    "    "
   ]
  },
  {
   "cell_type": "code",
   "execution_count": 1,
   "id": "56dc80dd",
   "metadata": {},
   "outputs": [],
   "source": [
    "import numpy as np\n",
    "import pandas as pd\n",
    "import matplotlib.pyplot as plt\n",
    "import math\n",
    "import matplotlib.mlab as mlab\n",
    "import datetime\n",
    "import scipy\n",
    "import scipy.stats as stats\n",
    "import seaborn as sns"
   ]
  },
  {
   "cell_type": "markdown",
   "id": "5c7e5bec",
   "metadata": {},
   "source": [
    "Data source:\n",
    "     https://archive.ics.uci.edu/ml/datasets/Online+Retail+II."
   ]
  },
  {
   "cell_type": "markdown",
   "id": "87290b72",
   "metadata": {},
   "source": [
    "2_Loading the dataset"
   ]
  },
  {
   "cell_type": "code",
   "execution_count": 2,
   "id": "a0cb9d21",
   "metadata": {},
   "outputs": [],
   "source": [
    "dataset = pd.read_excel('online_retail_II.xlsx', sheet_name=['Year 2009-2010', 'Year 2010-2011'])"
   ]
  },
  {
   "cell_type": "code",
   "execution_count": 3,
   "id": "99e7afe0",
   "metadata": {},
   "outputs": [
    {
     "data": {
      "text/plain": [
       "{'Year 2009-2010':        Invoice StockCode                          Description  Quantity  \\\n",
       " 0       489434     85048  15CM CHRISTMAS GLASS BALL 20 LIGHTS        12   \n",
       " 1       489434    79323P                   PINK CHERRY LIGHTS        12   \n",
       " 2       489434    79323W                  WHITE CHERRY LIGHTS        12   \n",
       " 3       489434     22041         RECORD FRAME 7\" SINGLE SIZE         48   \n",
       " 4       489434     21232       STRAWBERRY CERAMIC TRINKET BOX        24   \n",
       " ...        ...       ...                                  ...       ...   \n",
       " 525456  538171     22271                 FELTCRAFT DOLL ROSIE         2   \n",
       " 525457  538171     22750         FELTCRAFT PRINCESS LOLA DOLL         1   \n",
       " 525458  538171     22751       FELTCRAFT PRINCESS OLIVIA DOLL         1   \n",
       " 525459  538171     20970   PINK FLORAL FELTCRAFT SHOULDER BAG         2   \n",
       " 525460  538171     21931               JUMBO STORAGE BAG SUKI         2   \n",
       " \n",
       "                InvoiceDate  Price  Customer ID         Country  \n",
       " 0      2009-12-01 07:45:00   6.95      13085.0  United Kingdom  \n",
       " 1      2009-12-01 07:45:00   6.75      13085.0  United Kingdom  \n",
       " 2      2009-12-01 07:45:00   6.75      13085.0  United Kingdom  \n",
       " 3      2009-12-01 07:45:00   2.10      13085.0  United Kingdom  \n",
       " 4      2009-12-01 07:45:00   1.25      13085.0  United Kingdom  \n",
       " ...                    ...    ...          ...             ...  \n",
       " 525456 2010-12-09 20:01:00   2.95      17530.0  United Kingdom  \n",
       " 525457 2010-12-09 20:01:00   3.75      17530.0  United Kingdom  \n",
       " 525458 2010-12-09 20:01:00   3.75      17530.0  United Kingdom  \n",
       " 525459 2010-12-09 20:01:00   3.75      17530.0  United Kingdom  \n",
       " 525460 2010-12-09 20:01:00   1.95      17530.0  United Kingdom  \n",
       " \n",
       " [525461 rows x 8 columns],\n",
       " 'Year 2010-2011':        Invoice StockCode                          Description  Quantity  \\\n",
       " 0       536365    85123A   WHITE HANGING HEART T-LIGHT HOLDER         6   \n",
       " 1       536365     71053                  WHITE METAL LANTERN         6   \n",
       " 2       536365    84406B       CREAM CUPID HEARTS COAT HANGER         8   \n",
       " 3       536365    84029G  KNITTED UNION FLAG HOT WATER BOTTLE         6   \n",
       " 4       536365    84029E       RED WOOLLY HOTTIE WHITE HEART.         6   \n",
       " ...        ...       ...                                  ...       ...   \n",
       " 541905  581587     22899         CHILDREN'S APRON DOLLY GIRL          6   \n",
       " 541906  581587     23254        CHILDRENS CUTLERY DOLLY GIRL          4   \n",
       " 541907  581587     23255      CHILDRENS CUTLERY CIRCUS PARADE         4   \n",
       " 541908  581587     22138        BAKING SET 9 PIECE RETROSPOT          3   \n",
       " 541909  581587      POST                              POSTAGE         1   \n",
       " \n",
       "                InvoiceDate  Price  Customer ID         Country  \n",
       " 0      2010-12-01 08:26:00   2.55      17850.0  United Kingdom  \n",
       " 1      2010-12-01 08:26:00   3.39      17850.0  United Kingdom  \n",
       " 2      2010-12-01 08:26:00   2.75      17850.0  United Kingdom  \n",
       " 3      2010-12-01 08:26:00   3.39      17850.0  United Kingdom  \n",
       " 4      2010-12-01 08:26:00   3.39      17850.0  United Kingdom  \n",
       " ...                    ...    ...          ...             ...  \n",
       " 541905 2011-12-09 12:50:00   2.10      12680.0          France  \n",
       " 541906 2011-12-09 12:50:00   4.15      12680.0          France  \n",
       " 541907 2011-12-09 12:50:00   4.15      12680.0          France  \n",
       " 541908 2011-12-09 12:50:00   4.95      12680.0          France  \n",
       " 541909 2011-12-09 12:50:00  18.00      12680.0          France  \n",
       " \n",
       " [541910 rows x 8 columns]}"
      ]
     },
     "execution_count": 3,
     "metadata": {},
     "output_type": "execute_result"
    }
   ],
   "source": [
    "dataset"
   ]
  },
  {
   "cell_type": "code",
   "execution_count": null,
   "id": "07cae6a0",
   "metadata": {},
   "outputs": [],
   "source": [
    "\n"
   ]
  },
  {
   "cell_type": "code",
   "execution_count": 6,
   "id": "7d38f19b",
   "metadata": {},
   "outputs": [],
   "source": [
    "data_2010_2011 =dataset.get('Year 2010-2011')"
   ]
  },
  {
   "cell_type": "code",
   "execution_count": 8,
   "id": "02fcfb6a",
   "metadata": {},
   "outputs": [
    {
     "data": {
      "text/html": [
       "<div>\n",
       "<style scoped>\n",
       "    .dataframe tbody tr th:only-of-type {\n",
       "        vertical-align: middle;\n",
       "    }\n",
       "\n",
       "    .dataframe tbody tr th {\n",
       "        vertical-align: top;\n",
       "    }\n",
       "\n",
       "    .dataframe thead th {\n",
       "        text-align: right;\n",
       "    }\n",
       "</style>\n",
       "<table border=\"1\" class=\"dataframe\">\n",
       "  <thead>\n",
       "    <tr style=\"text-align: right;\">\n",
       "      <th></th>\n",
       "      <th>Invoice</th>\n",
       "      <th>StockCode</th>\n",
       "      <th>Description</th>\n",
       "      <th>Quantity</th>\n",
       "      <th>InvoiceDate</th>\n",
       "      <th>Price</th>\n",
       "      <th>Customer ID</th>\n",
       "      <th>Country</th>\n",
       "    </tr>\n",
       "  </thead>\n",
       "  <tbody>\n",
       "    <tr>\n",
       "      <th>0</th>\n",
       "      <td>536365</td>\n",
       "      <td>85123A</td>\n",
       "      <td>WHITE HANGING HEART T-LIGHT HOLDER</td>\n",
       "      <td>6</td>\n",
       "      <td>2010-12-01 08:26:00</td>\n",
       "      <td>2.55</td>\n",
       "      <td>17850.0</td>\n",
       "      <td>United Kingdom</td>\n",
       "    </tr>\n",
       "    <tr>\n",
       "      <th>1</th>\n",
       "      <td>536365</td>\n",
       "      <td>71053</td>\n",
       "      <td>WHITE METAL LANTERN</td>\n",
       "      <td>6</td>\n",
       "      <td>2010-12-01 08:26:00</td>\n",
       "      <td>3.39</td>\n",
       "      <td>17850.0</td>\n",
       "      <td>United Kingdom</td>\n",
       "    </tr>\n",
       "    <tr>\n",
       "      <th>2</th>\n",
       "      <td>536365</td>\n",
       "      <td>84406B</td>\n",
       "      <td>CREAM CUPID HEARTS COAT HANGER</td>\n",
       "      <td>8</td>\n",
       "      <td>2010-12-01 08:26:00</td>\n",
       "      <td>2.75</td>\n",
       "      <td>17850.0</td>\n",
       "      <td>United Kingdom</td>\n",
       "    </tr>\n",
       "    <tr>\n",
       "      <th>3</th>\n",
       "      <td>536365</td>\n",
       "      <td>84029G</td>\n",
       "      <td>KNITTED UNION FLAG HOT WATER BOTTLE</td>\n",
       "      <td>6</td>\n",
       "      <td>2010-12-01 08:26:00</td>\n",
       "      <td>3.39</td>\n",
       "      <td>17850.0</td>\n",
       "      <td>United Kingdom</td>\n",
       "    </tr>\n",
       "    <tr>\n",
       "      <th>4</th>\n",
       "      <td>536365</td>\n",
       "      <td>84029E</td>\n",
       "      <td>RED WOOLLY HOTTIE WHITE HEART.</td>\n",
       "      <td>6</td>\n",
       "      <td>2010-12-01 08:26:00</td>\n",
       "      <td>3.39</td>\n",
       "      <td>17850.0</td>\n",
       "      <td>United Kingdom</td>\n",
       "    </tr>\n",
       "    <tr>\n",
       "      <th>...</th>\n",
       "      <td>...</td>\n",
       "      <td>...</td>\n",
       "      <td>...</td>\n",
       "      <td>...</td>\n",
       "      <td>...</td>\n",
       "      <td>...</td>\n",
       "      <td>...</td>\n",
       "      <td>...</td>\n",
       "    </tr>\n",
       "    <tr>\n",
       "      <th>541905</th>\n",
       "      <td>581587</td>\n",
       "      <td>22899</td>\n",
       "      <td>CHILDREN'S APRON DOLLY GIRL</td>\n",
       "      <td>6</td>\n",
       "      <td>2011-12-09 12:50:00</td>\n",
       "      <td>2.10</td>\n",
       "      <td>12680.0</td>\n",
       "      <td>France</td>\n",
       "    </tr>\n",
       "    <tr>\n",
       "      <th>541906</th>\n",
       "      <td>581587</td>\n",
       "      <td>23254</td>\n",
       "      <td>CHILDRENS CUTLERY DOLLY GIRL</td>\n",
       "      <td>4</td>\n",
       "      <td>2011-12-09 12:50:00</td>\n",
       "      <td>4.15</td>\n",
       "      <td>12680.0</td>\n",
       "      <td>France</td>\n",
       "    </tr>\n",
       "    <tr>\n",
       "      <th>541907</th>\n",
       "      <td>581587</td>\n",
       "      <td>23255</td>\n",
       "      <td>CHILDRENS CUTLERY CIRCUS PARADE</td>\n",
       "      <td>4</td>\n",
       "      <td>2011-12-09 12:50:00</td>\n",
       "      <td>4.15</td>\n",
       "      <td>12680.0</td>\n",
       "      <td>France</td>\n",
       "    </tr>\n",
       "    <tr>\n",
       "      <th>541908</th>\n",
       "      <td>581587</td>\n",
       "      <td>22138</td>\n",
       "      <td>BAKING SET 9 PIECE RETROSPOT</td>\n",
       "      <td>3</td>\n",
       "      <td>2011-12-09 12:50:00</td>\n",
       "      <td>4.95</td>\n",
       "      <td>12680.0</td>\n",
       "      <td>France</td>\n",
       "    </tr>\n",
       "    <tr>\n",
       "      <th>541909</th>\n",
       "      <td>581587</td>\n",
       "      <td>POST</td>\n",
       "      <td>POSTAGE</td>\n",
       "      <td>1</td>\n",
       "      <td>2011-12-09 12:50:00</td>\n",
       "      <td>18.00</td>\n",
       "      <td>12680.0</td>\n",
       "      <td>France</td>\n",
       "    </tr>\n",
       "  </tbody>\n",
       "</table>\n",
       "<p>541910 rows × 8 columns</p>\n",
       "</div>"
      ],
      "text/plain": [
       "       Invoice StockCode                          Description  Quantity  \\\n",
       "0       536365    85123A   WHITE HANGING HEART T-LIGHT HOLDER         6   \n",
       "1       536365     71053                  WHITE METAL LANTERN         6   \n",
       "2       536365    84406B       CREAM CUPID HEARTS COAT HANGER         8   \n",
       "3       536365    84029G  KNITTED UNION FLAG HOT WATER BOTTLE         6   \n",
       "4       536365    84029E       RED WOOLLY HOTTIE WHITE HEART.         6   \n",
       "...        ...       ...                                  ...       ...   \n",
       "541905  581587     22899         CHILDREN'S APRON DOLLY GIRL          6   \n",
       "541906  581587     23254        CHILDRENS CUTLERY DOLLY GIRL          4   \n",
       "541907  581587     23255      CHILDRENS CUTLERY CIRCUS PARADE         4   \n",
       "541908  581587     22138        BAKING SET 9 PIECE RETROSPOT          3   \n",
       "541909  581587      POST                              POSTAGE         1   \n",
       "\n",
       "               InvoiceDate  Price  Customer ID         Country  \n",
       "0      2010-12-01 08:26:00   2.55      17850.0  United Kingdom  \n",
       "1      2010-12-01 08:26:00   3.39      17850.0  United Kingdom  \n",
       "2      2010-12-01 08:26:00   2.75      17850.0  United Kingdom  \n",
       "3      2010-12-01 08:26:00   3.39      17850.0  United Kingdom  \n",
       "4      2010-12-01 08:26:00   3.39      17850.0  United Kingdom  \n",
       "...                    ...    ...          ...             ...  \n",
       "541905 2011-12-09 12:50:00   2.10      12680.0          France  \n",
       "541906 2011-12-09 12:50:00   4.15      12680.0          France  \n",
       "541907 2011-12-09 12:50:00   4.15      12680.0          France  \n",
       "541908 2011-12-09 12:50:00   4.95      12680.0          France  \n",
       "541909 2011-12-09 12:50:00  18.00      12680.0          France  \n",
       "\n",
       "[541910 rows x 8 columns]"
      ]
     },
     "execution_count": 8,
     "metadata": {},
     "output_type": "execute_result"
    }
   ],
   "source": [
    "data_2010_2011"
   ]
  },
  {
   "cell_type": "code",
   "execution_count": null,
   "id": "c70c11fd",
   "metadata": {},
   "outputs": [],
   "source": []
  },
  {
   "cell_type": "markdown",
   "id": "e9b247f5",
   "metadata": {},
   "source": [
    "Clean and preprocess the data: Identify and remove any duplicates, missing values, and other errors in the dataset. This may involve dropping rows with missing values, removing duplicates, or correcting errors in the data"
   ]
  },
  {
   "cell_type": "code",
   "execution_count": 10,
   "id": "e7b55f6c",
   "metadata": {},
   "outputs": [],
   "source": [
    "# Count the number of missing values in each column\n",
    "missing_values_count = data_2010_2011.isnull().sum()"
   ]
  },
  {
   "cell_type": "code",
   "execution_count": 11,
   "id": "4e078346",
   "metadata": {},
   "outputs": [
    {
     "name": "stdout",
     "output_type": "stream",
     "text": [
      "Invoice             0\n",
      "StockCode           0\n",
      "Description      1454\n",
      "Quantity            0\n",
      "InvoiceDate         0\n",
      "Price               0\n",
      "Customer ID    135080\n",
      "Country             0\n",
      "dtype: int64\n"
     ]
    }
   ],
   "source": [
    "print(missing_values_count)"
   ]
  },
  {
   "cell_type": "markdown",
   "id": "884be06d",
   "metadata": {},
   "source": [
    "# 1_Clean and preprocess the data"
   ]
  },
  {
   "cell_type": "code",
   "execution_count": 12,
   "id": "8c05ade0",
   "metadata": {},
   "outputs": [],
   "source": [
    "# Remove rows with missing values\n",
    "data_2009_2010.dropna(inplace=True)"
   ]
  },
  {
   "cell_type": "code",
   "execution_count": 13,
   "id": "c81c2c82",
   "metadata": {},
   "outputs": [],
   "source": [
    "# Remove duplicates\n",
    "data_2009_2010.drop_duplicates(inplace=True)"
   ]
  },
  {
   "cell_type": "markdown",
   "id": "004d2077",
   "metadata": {},
   "source": [
    "# 2_Merge and aggregate the data"
   ]
  },
  {
   "cell_type": "code",
   "execution_count": 18,
   "id": "2793d116",
   "metadata": {},
   "outputs": [],
   "source": [
    "# Group the data by 'StockCode' and calculate the total sales\n",
    "sales_by_product = data_2010_2011.groupby('StockCode')['Price'].sum()"
   ]
  },
  {
   "cell_type": "code",
   "execution_count": 19,
   "id": "d0d398b7",
   "metadata": {},
   "outputs": [
    {
     "name": "stdout",
     "output_type": "stream",
     "text": [
      "StockCode\n",
      "10002        41.650\n",
      "10080         8.650\n",
      "10120         6.090\n",
      "10125        49.250\n",
      "10133        64.990\n",
      "            ...    \n",
      "D          5581.310\n",
      "DOT       11906.360\n",
      "M        155500.420\n",
      "PADS          0.003\n",
      "POST      45332.680\n",
      "Name: Price, Length: 3684, dtype: float64\n"
     ]
    }
   ],
   "source": [
    "print(sales_by_product)"
   ]
  },
  {
   "cell_type": "markdown",
   "id": "68d75f98",
   "metadata": {},
   "source": [
    "# 3_Analyze the data: "
   ]
  },
  {
   "cell_type": "code",
   "execution_count": 22,
   "id": "df66f80d",
   "metadata": {},
   "outputs": [],
   "source": [
    "# Correlation analysis: Identify which products are frequently purchased together\n",
    "correlation_matrix = data_2010_2011.groupby('Customer ID')['StockCode'].apply(lambda x: x.value_counts().head(10))\n"
   ]
  },
  {
   "cell_type": "code",
   "execution_count": 23,
   "id": "e7205407",
   "metadata": {},
   "outputs": [
    {
     "name": "stdout",
     "output_type": "stream",
     "text": [
      "Customer ID        \n",
      "12346.0      23166     2\n",
      "12347.0      22375     6\n",
      "             84558A    5\n",
      "             21731     5\n",
      "             22727     5\n",
      "                      ..\n",
      "18287.0      23078     2\n",
      "             23076     2\n",
      "             23264     2\n",
      "             21014     2\n",
      "             21824     2\n",
      "Name: StockCode, Length: 40405, dtype: int64\n"
     ]
    }
   ],
   "source": [
    "print(correlation_matrix)"
   ]
  },
  {
   "cell_type": "code",
   "execution_count": null,
   "id": "6b41eb19",
   "metadata": {},
   "outputs": [],
   "source": []
  },
  {
   "cell_type": "markdown",
   "id": "df70b945",
   "metadata": {},
   "source": [
    "# 4_Create visualizations"
   ]
  },
  {
   "cell_type": "code",
   "execution_count": 24,
   "id": "a4bfb0de",
   "metadata": {},
   "outputs": [
    {
     "data": {
      "image/png": "[encoded data removed]",
      "text/plain": [
       "<Figure size 640x480 with 1 Axes>"
      ]
     },
     "metadata": {},
     "output_type": "display_data"
    }
   ],
   "source": [
    "import matplotlib.pyplot as plt\n",
    "\n",
    "# Create a bar chart to show the total sales by product\n",
    "sales_by_product.plot(kind='bar')\n",
    "plt.xlabel('Product')\n",
    "plt.ylabel('Total sales')\n",
    "plt.title('Total sales by product')\n",
    "plt.show()\n"
   ]
  },
  {
   "cell_type": "code",
   "execution_count": 33,
   "id": "0ce5dd98",
   "metadata": {},
   "outputs": [
    {
     "data": {
      "image/png": "[encoded data removed]",
      "text/plain": [
       "<Figure size 640x480 with 1 Axes>"
      ]
     },
     "metadata": {},
     "output_type": "display_data"
    }
   ],
   "source": [
    "# Create a bar chart to show the total sales by product\n",
    "#sales_by_product.plot(kind='scatter')\n",
    "#plt.xlabel('Product')\n",
    "#plt.ylabel('Total sales')\n",
    "#plt.title('Total sales by product')\n",
    "#plt.show()\n",
    "import matplotlib.pyplot as plt\n",
    "\n",
    "# Select two columns for the scatter plot\n",
    "x = data_2009_2010['Quantity']\n",
    "y = data_2009_2010['Price']\n",
    "\n",
    "# Create a scatter plot\n",
    "plt.scatter(x, y, alpha=0.5)\n",
    "plt.xlabel('Quantity')\n",
    "plt.ylabel('Price')\n",
    "plt.title('Scatter plot of Quantity vs Price')\n",
    "plt.show()\n"
   ]
  },
  {
   "cell_type": "code",
   "execution_count": null,
   "id": "2d0da257",
   "metadata": {},
   "outputs": [],
   "source": []
  }
 ],
 "metadata": {
  "kernelspec": {
   "display_name": "Python 3 (ipykernel)",
   "language": "python",
   "name": "python3"
  },
  "language_info": {
   "codemirror_mode": {
    "name": "ipython",
    "version": 3
   },
   "file_extension": ".py",
   "mimetype": "text/x-python",
   "name": "python",
   "nbconvert_exporter": "python",
   "pygments_lexer": "ipython3",
   "version": "3.11.2"
  }
 },
 "nbformat": 4,
 "nbformat_minor": 5
}
